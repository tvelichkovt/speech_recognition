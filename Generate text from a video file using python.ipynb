{
 "cells": [
  {
   "cell_type": "code",
   "execution_count": 2,
   "id": "01f45f1d",
   "metadata": {},
   "outputs": [
    {
     "name": "stdout",
     "output_type": "stream",
     "text": [
      "Requirement already satisfied: ffmpeg in c:\\programdata\\anaconda3\\lib\\site-packages (1.4)\n",
      "Note: you may need to restart the kernel to use updated packages.\n",
      "Note: you may need to restart the kernel to use updated packages.\n"
     ]
    },
    {
     "name": "stderr",
     "output_type": "stream",
     "text": [
      "ERROR: Could not find a version that satisfies the requirement speech_recognition (from versions: none)\n",
      "ERROR: No matching distribution found for speech_recognition\n"
     ]
    }
   ],
   "source": [
    "import os\n",
    "%pip install ffmpeg \n",
    "%pip install SpeechRecognition\n",
    "%pip install moviepy"
   ]
  },
  {
   "cell_type": "code",
   "execution_count": 1,
   "id": "24c2d529",
   "metadata": {},
   "outputs": [],
   "source": [
    "import speech_recognition as sr \n",
    "import moviepy.editor as mp\n",
    "from moviepy.video.io.ffmpeg_tools import ffmpeg_extract_subclip"
   ]
  },
  {
   "cell_type": "code",
   "execution_count": 4,
   "id": "550bc634",
   "metadata": {},
   "outputs": [
    {
     "name": "stdout",
     "output_type": "stream",
     "text": [
      "The video is 3120 seconds\n",
      "[0, 60, 120, 180, 240, 300, 360, 420, 480, 540, 600, 660, 720, 780, 840, 900, 960, 1020, 1080, 1140, 1200, 1260, 1320, 1380, 1440, 1500, 1560, 1620, 1680, 1740, 1800, 1860, 1920, 1980, 2040, 2100, 2160, 2220, 2280, 2340, 2400, 2460, 2520, 2580, 2640, 2700, 2760, 2820, 2880, 2940, 3000, 3060, 3120]\n"
     ]
    }
   ],
   "source": [
    "num_seconds_video= 52*60\n",
    "print(\"The video is {} seconds\".format(num_seconds_video))\n",
    "l=list(range(0,num_seconds_video+1,60))\n",
    "print(l)"
   ]
  },
  {
   "cell_type": "code",
   "execution_count": 6,
   "id": "8db804a5",
   "metadata": {},
   "outputs": [
    {
     "name": "stderr",
     "output_type": "stream",
     "text": [
      "chunk:   2%|█▎                                                             | 28/1324 [00:31<23:56,  1.11s/it, now=None]"
     ]
    },
    {
     "name": "stdout",
     "output_type": "stream",
     "text": [
      "Moviepy - Running:\n",
      ">>> \"+ \" \".join(cmd)\n",
      "Moviepy - Command successful\n"
     ]
    },
    {
     "name": "stderr",
     "output_type": "stream",
     "text": [
      "chunk:   2%|█▎                                                             | 28/1324 [00:31<24:09,  1.12s/it, now=None]"
     ]
    },
    {
     "name": "stdout",
     "output_type": "stream",
     "text": [
      "MoviePy - Writing audio in converted/converted1.wav\n"
     ]
    },
    {
     "name": "stderr",
     "output_type": "stream",
     "text": [
      "\n",
      "chunk:   0%|                                                                        | 0/1324 [00:00<?, ?it/s, now=None]\u001b[A\n",
      "chunk:   9%|█████▌                                                      | 123/1324 [00:00<00:00, 1218.68it/s, now=None]\u001b[A\n",
      "chunk:  31%|██████████████████▍                                         | 408/1324 [00:00<00:00, 2106.30it/s, now=None]\u001b[A\n",
      "chunk:  54%|████████████████████████████████▎                           | 714/1324 [00:00<00:00, 2487.16it/s, now=None]\u001b[A\n",
      "chunk:  75%|█████████████████████████████████████████████▎              | 999/1324 [00:00<00:00, 2624.40it/s, now=None]\u001b[A\n",
      "chunk:  96%|████████████████████████████████████████████████████████▊  | 1275/1324 [00:00<00:00, 2666.57it/s, now=None]\u001b[A\n",
      "chunk:   2%|█▎                                                             | 28/1324 [00:31<24:35,  1.14s/it, now=None]\u001b[A"
     ]
    },
    {
     "name": "stdout",
     "output_type": "stream",
     "text": [
      "MoviePy - Done.\n"
     ]
    },
    {
     "name": "stderr",
     "output_type": "stream",
     "text": [
      "chunk:   2%|█▎                                                             | 28/1324 [00:38<29:41,  1.37s/it, now=None]"
     ]
    },
    {
     "name": "stdout",
     "output_type": "stream",
     "text": [
      "Moviepy - Running:\n",
      ">>> \"+ \" \".join(cmd)\n",
      "Moviepy - Command successful\n"
     ]
    },
    {
     "name": "stderr",
     "output_type": "stream",
     "text": [
      "chunk:   2%|█▎                                                             | 28/1324 [00:38<29:55,  1.39s/it, now=None]"
     ]
    },
    {
     "name": "stdout",
     "output_type": "stream",
     "text": [
      "MoviePy - Writing audio in converted/converted2.wav\n"
     ]
    },
    {
     "name": "stderr",
     "output_type": "stream",
     "text": [
      "\n",
      "chunk:   0%|                                                                        | 0/1502 [00:00<?, ?it/s, now=None]\u001b[A\n",
      "chunk:   9%|█████▌                                                      | 139/1502 [00:00<00:00, 1381.62it/s, now=None]\u001b[A\n",
      "chunk:  29%|█████████████████▏                                          | 430/1502 [00:00<00:00, 2272.44it/s, now=None]\u001b[A\n",
      "chunk:  49%|█████████████████████████████                               | 729/1502 [00:00<00:00, 2598.18it/s, now=None]\u001b[A\n",
      "chunk:  68%|████████████████████████████████████████                   | 1020/1502 [00:00<00:00, 2694.37it/s, now=None]\u001b[A\n",
      "chunk:  88%|████████████████████████████████████████████████████       | 1326/1502 [00:00<00:00, 2770.29it/s, now=None]\u001b[A\n",
      "chunk:   2%|█▎                                                             | 28/1324 [00:39<30:23,  1.41s/it, now=None]\u001b[A"
     ]
    },
    {
     "name": "stdout",
     "output_type": "stream",
     "text": [
      "MoviePy - Done.\n"
     ]
    },
    {
     "name": "stderr",
     "output_type": "stream",
     "text": [
      "chunk:   2%|█▎                                                             | 28/1324 [00:46<36:15,  1.68s/it, now=None]"
     ]
    },
    {
     "name": "stdout",
     "output_type": "stream",
     "text": [
      "Moviepy - Running:\n",
      ">>> \"+ \" \".join(cmd)\n",
      "Moviepy - Command successful\n"
     ]
    },
    {
     "name": "stderr",
     "output_type": "stream",
     "text": [
      "chunk:   2%|█▎                                                             | 28/1324 [00:47<36:31,  1.69s/it, now=None]"
     ]
    },
    {
     "name": "stdout",
     "output_type": "stream",
     "text": [
      "MoviePy - Writing audio in converted/converted3.wav\n"
     ]
    },
    {
     "name": "stderr",
     "output_type": "stream",
     "text": [
      "\n",
      "chunk:   0%|                                                                        | 0/1501 [00:00<?, ?it/s, now=None]\u001b[A\n",
      "chunk:   8%|████▉                                                       | 124/1501 [00:00<00:01, 1235.97it/s, now=None]\u001b[A\n",
      "chunk:  28%|████████████████▋                                           | 418/1501 [00:00<00:00, 2230.22it/s, now=None]\u001b[A\n",
      "chunk:  48%|████████████████████████████▋                               | 718/1501 [00:00<00:00, 2575.99it/s, now=None]\u001b[A\n",
      "chunk:  65%|███████████████████████████████████████                     | 977/1501 [00:00<00:00, 2576.29it/s, now=None]\u001b[A\n",
      "chunk:  85%|██████████████████████████████████████████████████▎        | 1280/1501 [00:00<00:00, 2734.30it/s, now=None]\u001b[A\n",
      "chunk:   2%|█▎                                                             | 28/1324 [00:47<36:58,  1.71s/it, now=None]\u001b[A"
     ]
    },
    {
     "name": "stdout",
     "output_type": "stream",
     "text": [
      "MoviePy - Done.\n"
     ]
    },
    {
     "name": "stderr",
     "output_type": "stream",
     "text": [
      "chunk:   2%|█▎                                                             | 28/1324 [00:55<42:44,  1.98s/it, now=None]"
     ]
    },
    {
     "name": "stdout",
     "output_type": "stream",
     "text": [
      "Moviepy - Running:\n",
      ">>> \"+ \" \".join(cmd)\n",
      "Moviepy - Command successful\n"
     ]
    },
    {
     "name": "stderr",
     "output_type": "stream",
     "text": [
      "chunk:   2%|█▎                                                             | 28/1324 [00:55<42:57,  1.99s/it, now=None]"
     ]
    },
    {
     "name": "stdout",
     "output_type": "stream",
     "text": [
      "MoviePy - Writing audio in converted/converted4.wav\n"
     ]
    },
    {
     "name": "stderr",
     "output_type": "stream",
     "text": [
      "\n",
      "chunk:   0%|                                                                        | 0/1375 [00:00<?, ?it/s, now=None]\u001b[A\n",
      "chunk:  11%|██████▋                                                     | 153/1375 [00:00<00:00, 1465.66it/s, now=None]\u001b[A\n",
      "chunk:  33%|████████████████████                                        | 459/1375 [00:00<00:00, 2352.59it/s, now=None]\u001b[A\n",
      "chunk:  56%|█████████████████████████████████▍                          | 765/1375 [00:00<00:00, 2628.74it/s, now=None]\u001b[A\n",
      "chunk:  78%|█████████████████████████████████████████████▉             | 1071/1375 [00:00<00:00, 2747.39it/s, now=None]\u001b[A\n",
      "chunk:  99%|██████████████████████████████████████████████████████████▍| 1362/1375 [00:00<00:00, 2799.53it/s, now=None]\u001b[A\n",
      "chunk:   2%|█▎                                                             | 28/1324 [00:56<43:22,  2.01s/it, now=None]\u001b[A"
     ]
    },
    {
     "name": "stdout",
     "output_type": "stream",
     "text": [
      "MoviePy - Done.\n"
     ]
    },
    {
     "name": "stderr",
     "output_type": "stream",
     "text": [
      "chunk:   2%|█▎                                                             | 28/1324 [01:03<48:48,  2.26s/it, now=None]"
     ]
    },
    {
     "name": "stdout",
     "output_type": "stream",
     "text": [
      "Moviepy - Running:\n",
      ">>> \"+ \" \".join(cmd)\n",
      "Moviepy - Command successful\n"
     ]
    },
    {
     "name": "stderr",
     "output_type": "stream",
     "text": [
      "chunk:   2%|█▎                                                             | 28/1324 [01:03<49:02,  2.27s/it, now=None]"
     ]
    },
    {
     "name": "stdout",
     "output_type": "stream",
     "text": [
      "MoviePy - Writing audio in converted/converted5.wav\n"
     ]
    },
    {
     "name": "stderr",
     "output_type": "stream",
     "text": [
      "\n",
      "chunk:   0%|                                                                        | 0/1393 [00:00<?, ?it/s, now=None]\u001b[A\n",
      "chunk:   7%|████▍                                                       | 102/1393 [00:00<00:01, 1014.87it/s, now=None]\u001b[A\n",
      "chunk:  29%|█████████████████▌                                          | 408/1393 [00:00<00:00, 2182.96it/s, now=None]\u001b[A\n",
      "chunk:  51%|██████████████████████████████▊                             | 714/1393 [00:00<00:00, 2575.17it/s, now=None]\u001b[A\n",
      "chunk:  70%|█████████████████████████████████████████▉                  | 974/1393 [00:00<00:00, 2583.51it/s, now=None]\u001b[A\n",
      "chunk:  92%|██████████████████████████████████████████████████████     | 1275/1393 [00:00<00:00, 2692.93it/s, now=None]\u001b[A\n",
      "chunk:   2%|█▎                                                             | 28/1324 [01:04<49:28,  2.29s/it, now=None]\u001b[A"
     ]
    },
    {
     "name": "stdout",
     "output_type": "stream",
     "text": [
      "MoviePy - Done.\n"
     ]
    },
    {
     "name": "stderr",
     "output_type": "stream",
     "text": [
      "chunk:   2%|█▎                                                             | 28/1324 [01:10<54:36,  2.53s/it, now=None]"
     ]
    },
    {
     "name": "stdout",
     "output_type": "stream",
     "text": [
      "Moviepy - Running:\n",
      ">>> \"+ \" \".join(cmd)\n",
      "Moviepy - Command successful\n"
     ]
    },
    {
     "name": "stderr",
     "output_type": "stream",
     "text": [
      "chunk:   2%|█▎                                                             | 28/1324 [01:11<54:52,  2.54s/it, now=None]"
     ]
    },
    {
     "name": "stdout",
     "output_type": "stream",
     "text": [
      "MoviePy - Writing audio in converted/converted6.wav\n"
     ]
    },
    {
     "name": "stderr",
     "output_type": "stream",
     "text": [
      "\n",
      "chunk:   0%|                                                                        | 0/1456 [00:00<?, ?it/s, now=None]\u001b[A\n",
      "chunk:   8%|████▉                                                       | 119/1456 [00:00<00:01, 1186.14it/s, now=None]\u001b[A\n",
      "chunk:  29%|█████████████████▏                                          | 416/1456 [00:00<00:00, 2227.29it/s, now=None]\u001b[A\n",
      "chunk:  49%|█████████████████████████████▍                              | 714/1456 [00:00<00:00, 2533.28it/s, now=None]\u001b[A\n",
      "chunk:  69%|████████████████████████████████████████▌                  | 1000/1456 [00:00<00:00, 2660.37it/s, now=None]\u001b[A\n",
      "chunk:  89%|████████████████████████████████████████████████████▌      | 1297/1456 [00:00<00:00, 2767.67it/s, now=None]\u001b[A\n",
      "chunk:   2%|█▎                                                             | 28/1324 [01:11<55:19,  2.56s/it, now=None]\u001b[A"
     ]
    },
    {
     "name": "stdout",
     "output_type": "stream",
     "text": [
      "MoviePy - Done.\n"
     ]
    },
    {
     "name": "stderr",
     "output_type": "stream",
     "text": [
      "chunk:   2%|█▎                                                           | 28/1324 [01:19<1:01:17,  2.84s/it, now=None]"
     ]
    },
    {
     "name": "stdout",
     "output_type": "stream",
     "text": [
      "Moviepy - Running:\n",
      ">>> \"+ \" \".join(cmd)\n",
      "Moviepy - Command successful\n"
     ]
    },
    {
     "name": "stderr",
     "output_type": "stream",
     "text": [
      "chunk:   2%|█▎                                                           | 28/1324 [01:19<1:01:31,  2.85s/it, now=None]"
     ]
    },
    {
     "name": "stdout",
     "output_type": "stream",
     "text": [
      "MoviePy - Writing audio in converted/converted7.wav\n"
     ]
    },
    {
     "name": "stderr",
     "output_type": "stream",
     "text": [
      "\n",
      "chunk:   0%|                                                                         | 0/548 [00:00<?, ?it/s, now=None]\u001b[A\n",
      "chunk:  28%|█████████████████                                            | 153/548 [00:00<00:00, 1521.51it/s, now=None]\u001b[A\n",
      "chunk:  88%|█████████████████████████████████████████████████████▊       | 483/548 [00:00<00:00, 2557.54it/s, now=None]\u001b[A\n",
      "chunk:   2%|█▎                                                           | 28/1324 [01:19<1:01:42,  2.86s/it, now=None]\u001b[A"
     ]
    },
    {
     "name": "stdout",
     "output_type": "stream",
     "text": [
      "MoviePy - Done.\n"
     ]
    },
    {
     "name": "stderr",
     "output_type": "stream",
     "text": [
      "chunk:   2%|█▎                                                           | 28/1324 [01:22<1:03:44,  2.95s/it, now=None]"
     ]
    },
    {
     "name": "stdout",
     "output_type": "stream",
     "text": [
      "Moviepy - Running:\n",
      ">>> \"+ \" \".join(cmd)\n",
      "Moviepy - Command successful\n"
     ]
    },
    {
     "ename": "OSError",
     "evalue": "MoviePy error: failed to read the first frame of video file chunks/cut8.mp4. That might mean that the file is corrupted. That may also mean that you are using a deprecated version of FFMPEG. On Ubuntu/Debian for instance the version in the repos is deprecated. Please update to a recent version from the website.",
     "output_type": "error",
     "traceback": [
      "\u001b[1;31m---------------------------------------------------------------------------\u001b[0m",
      "\u001b[1;31mOSError\u001b[0m                                   Traceback (most recent call last)",
      "\u001b[1;32m<ipython-input-6-b66f81471405>\u001b[0m in \u001b[0;36m<module>\u001b[1;34m\u001b[0m\n\u001b[0;32m      2\u001b[0m \u001b[1;32mfor\u001b[0m \u001b[0mi\u001b[0m \u001b[1;32min\u001b[0m \u001b[0mrange\u001b[0m\u001b[1;33m(\u001b[0m\u001b[0mlen\u001b[0m\u001b[1;33m(\u001b[0m\u001b[0ml\u001b[0m\u001b[1;33m)\u001b[0m\u001b[1;33m-\u001b[0m\u001b[1;36m1\u001b[0m\u001b[1;33m)\u001b[0m\u001b[1;33m:\u001b[0m\u001b[1;33m\u001b[0m\u001b[1;33m\u001b[0m\u001b[0m\n\u001b[0;32m      3\u001b[0m     \u001b[0mffmpeg_extract_subclip\u001b[0m\u001b[1;33m(\u001b[0m\u001b[1;34m\"video_file1.mp4\"\u001b[0m\u001b[1;33m,\u001b[0m \u001b[0ml\u001b[0m\u001b[1;33m[\u001b[0m\u001b[0mi\u001b[0m\u001b[1;33m]\u001b[0m\u001b[1;33m-\u001b[0m\u001b[1;36m2\u001b[0m\u001b[1;33m*\u001b[0m\u001b[1;33m(\u001b[0m\u001b[0ml\u001b[0m\u001b[1;33m[\u001b[0m\u001b[0mi\u001b[0m\u001b[1;33m]\u001b[0m\u001b[1;33m!=\u001b[0m\u001b[1;36m0\u001b[0m\u001b[1;33m)\u001b[0m\u001b[1;33m,\u001b[0m \u001b[0ml\u001b[0m\u001b[1;33m[\u001b[0m\u001b[0mi\u001b[0m\u001b[1;33m+\u001b[0m\u001b[1;36m1\u001b[0m\u001b[1;33m]\u001b[0m\u001b[1;33m,\u001b[0m \u001b[0mtargetname\u001b[0m\u001b[1;33m=\u001b[0m\u001b[1;34m\"chunks/cut{}.mp4\"\u001b[0m\u001b[1;33m.\u001b[0m\u001b[0mformat\u001b[0m\u001b[1;33m(\u001b[0m\u001b[0mi\u001b[0m\u001b[1;33m+\u001b[0m\u001b[1;36m1\u001b[0m\u001b[1;33m)\u001b[0m\u001b[1;33m)\u001b[0m\u001b[1;33m\u001b[0m\u001b[1;33m\u001b[0m\u001b[0m\n\u001b[1;32m----> 4\u001b[1;33m     \u001b[0mclip\u001b[0m \u001b[1;33m=\u001b[0m \u001b[0mmp\u001b[0m\u001b[1;33m.\u001b[0m\u001b[0mVideoFileClip\u001b[0m\u001b[1;33m(\u001b[0m\u001b[1;34mr\"chunks/cut{}.mp4\"\u001b[0m\u001b[1;33m.\u001b[0m\u001b[0mformat\u001b[0m\u001b[1;33m(\u001b[0m\u001b[0mi\u001b[0m\u001b[1;33m+\u001b[0m\u001b[1;36m1\u001b[0m\u001b[1;33m)\u001b[0m\u001b[1;33m)\u001b[0m\u001b[1;33m\u001b[0m\u001b[1;33m\u001b[0m\u001b[0m\n\u001b[0m\u001b[0;32m      5\u001b[0m     \u001b[0mclip\u001b[0m\u001b[1;33m.\u001b[0m\u001b[0maudio\u001b[0m\u001b[1;33m.\u001b[0m\u001b[0mwrite_audiofile\u001b[0m\u001b[1;33m(\u001b[0m\u001b[1;34mr\"converted/converted{}.wav\"\u001b[0m\u001b[1;33m.\u001b[0m\u001b[0mformat\u001b[0m\u001b[1;33m(\u001b[0m\u001b[0mi\u001b[0m\u001b[1;33m+\u001b[0m\u001b[1;36m1\u001b[0m\u001b[1;33m)\u001b[0m\u001b[1;33m)\u001b[0m\u001b[1;33m\u001b[0m\u001b[1;33m\u001b[0m\u001b[0m\n\u001b[0;32m      6\u001b[0m     \u001b[0mr\u001b[0m \u001b[1;33m=\u001b[0m \u001b[0msr\u001b[0m\u001b[1;33m.\u001b[0m\u001b[0mRecognizer\u001b[0m\u001b[1;33m(\u001b[0m\u001b[1;33m)\u001b[0m\u001b[1;33m\u001b[0m\u001b[1;33m\u001b[0m\u001b[0m\n",
      "\u001b[1;32mC:\\ProgramData\\Anaconda3\\lib\\site-packages\\moviepy\\video\\io\\VideoFileClip.py\u001b[0m in \u001b[0;36m__init__\u001b[1;34m(self, filename, has_mask, audio, audio_buffersize, target_resolution, resize_algorithm, audio_fps, audio_nbytes, verbose, fps_source)\u001b[0m\n\u001b[0;32m     86\u001b[0m         \u001b[1;31m# Make a reader\u001b[0m\u001b[1;33m\u001b[0m\u001b[1;33m\u001b[0m\u001b[1;33m\u001b[0m\u001b[0m\n\u001b[0;32m     87\u001b[0m         \u001b[0mpix_fmt\u001b[0m \u001b[1;33m=\u001b[0m \u001b[1;34m\"rgba\"\u001b[0m \u001b[1;32mif\u001b[0m \u001b[0mhas_mask\u001b[0m \u001b[1;32melse\u001b[0m \u001b[1;34m\"rgb24\"\u001b[0m\u001b[1;33m\u001b[0m\u001b[1;33m\u001b[0m\u001b[0m\n\u001b[1;32m---> 88\u001b[1;33m         self.reader = FFMPEG_VideoReader(filename, pix_fmt=pix_fmt,\n\u001b[0m\u001b[0;32m     89\u001b[0m                                          \u001b[0mtarget_resolution\u001b[0m\u001b[1;33m=\u001b[0m\u001b[0mtarget_resolution\u001b[0m\u001b[1;33m,\u001b[0m\u001b[1;33m\u001b[0m\u001b[1;33m\u001b[0m\u001b[0m\n\u001b[0;32m     90\u001b[0m                                          \u001b[0mresize_algo\u001b[0m\u001b[1;33m=\u001b[0m\u001b[0mresize_algorithm\u001b[0m\u001b[1;33m,\u001b[0m\u001b[1;33m\u001b[0m\u001b[1;33m\u001b[0m\u001b[0m\n",
      "\u001b[1;32mC:\\ProgramData\\Anaconda3\\lib\\site-packages\\moviepy\\video\\io\\ffmpeg_reader.py\u001b[0m in \u001b[0;36m__init__\u001b[1;34m(self, filename, print_infos, bufsize, pix_fmt, check_duration, target_resolution, resize_algo, fps_source)\u001b[0m\n\u001b[0;32m     71\u001b[0m \u001b[1;33m\u001b[0m\u001b[0m\n\u001b[0;32m     72\u001b[0m         \u001b[0mself\u001b[0m\u001b[1;33m.\u001b[0m\u001b[0mpos\u001b[0m \u001b[1;33m=\u001b[0m \u001b[1;36m1\u001b[0m\u001b[1;33m\u001b[0m\u001b[1;33m\u001b[0m\u001b[0m\n\u001b[1;32m---> 73\u001b[1;33m         \u001b[0mself\u001b[0m\u001b[1;33m.\u001b[0m\u001b[0mlastread\u001b[0m \u001b[1;33m=\u001b[0m \u001b[0mself\u001b[0m\u001b[1;33m.\u001b[0m\u001b[0mread_frame\u001b[0m\u001b[1;33m(\u001b[0m\u001b[1;33m)\u001b[0m\u001b[1;33m\u001b[0m\u001b[1;33m\u001b[0m\u001b[0m\n\u001b[0m\u001b[0;32m     74\u001b[0m \u001b[1;33m\u001b[0m\u001b[0m\n\u001b[0;32m     75\u001b[0m \u001b[1;33m\u001b[0m\u001b[0m\n",
      "\u001b[1;32mC:\\ProgramData\\Anaconda3\\lib\\site-packages\\moviepy\\video\\io\\ffmpeg_reader.py\u001b[0m in \u001b[0;36mread_frame\u001b[1;34m(self)\u001b[0m\n\u001b[0;32m    131\u001b[0m \u001b[1;33m\u001b[0m\u001b[0m\n\u001b[0;32m    132\u001b[0m             \u001b[1;32mif\u001b[0m \u001b[1;32mnot\u001b[0m \u001b[0mhasattr\u001b[0m\u001b[1;33m(\u001b[0m\u001b[0mself\u001b[0m\u001b[1;33m,\u001b[0m \u001b[1;34m'lastread'\u001b[0m\u001b[1;33m)\u001b[0m\u001b[1;33m:\u001b[0m\u001b[1;33m\u001b[0m\u001b[1;33m\u001b[0m\u001b[0m\n\u001b[1;32m--> 133\u001b[1;33m                 raise IOError((\"MoviePy error: failed to read the first frame of \"\n\u001b[0m\u001b[0;32m    134\u001b[0m                                \u001b[1;34m\"video file %s. That might mean that the file is \"\u001b[0m\u001b[1;33m\u001b[0m\u001b[1;33m\u001b[0m\u001b[0m\n\u001b[0;32m    135\u001b[0m                                \u001b[1;34m\"corrupted. That may also mean that you are using \"\u001b[0m\u001b[1;33m\u001b[0m\u001b[1;33m\u001b[0m\u001b[0m\n",
      "\u001b[1;31mOSError\u001b[0m: MoviePy error: failed to read the first frame of video file chunks/cut8.mp4. That might mean that the file is corrupted. That may also mean that you are using a deprecated version of FFMPEG. On Ubuntu/Debian for instance the version in the repos is deprecated. Please update to a recent version from the website."
     ]
    }
   ],
   "source": [
    "diz={}\n",
    "for i in range(len(l)-1):\n",
    "    ffmpeg_extract_subclip(\"video_file1.mp4\", l[i]-2*(l[i]!=0), l[i+1], targetname=\"chunks/cut{}.mp4\".format(i+1))\n",
    "    clip = mp.VideoFileClip(r\"chunks/cut{}.mp4\".format(i+1)) \n",
    "    clip.audio.write_audiofile(r\"converted/converted{}.wav\".format(i+1))\n",
    "    r = sr.Recognizer()\n",
    "    audio = sr.AudioFile(\"converted/converted{}.wav\".format(i+1))\n",
    "    with audio as source:\n",
    "      r.adjust_for_ambient_noise(source)  \n",
    "      audio_file = r.record(source)\n",
    "    result = r.recognize_google(audio_file)\n",
    "    diz['chunk{}'.format(i+1)]=result"
   ]
  },
  {
   "cell_type": "code",
   "execution_count": 16,
   "id": "2a8c1806",
   "metadata": {},
   "outputs": [],
   "source": [
    "l_chunks=[diz['chunk{}'.format(i+1)] for i in range(len(diz))]\n",
    "text='\\n'.join(l_chunks)"
   ]
  },
  {
   "cell_type": "code",
   "execution_count": 17,
   "id": "a1d62c3b",
   "metadata": {},
   "outputs": [],
   "source": [
    "with open('OutPut_Speech.txt',mode ='w') as file: \n",
    "   file.write(\"OutPut_Speech:\") \n",
    "   file.write(\"\\n\") \n",
    "   file.write(text) \n"
   ]
  },
  {
   "cell_type": "code",
   "execution_count": 18,
   "id": "4df1b4ac",
   "metadata": {},
   "outputs": [
    {
     "name": "stdout",
     "output_type": "stream",
     "text": [
      "OutPut_Speech:\n",
      "gun in anger NZ Shane I didn't fail the test I just found 100 ways to do it wrong wife's biggest tragedy is that we get old too soon and Wise too late there are three faithful friends and his wife and old dark and ready money never leave till tomorrow that would you can do today time as money well done is better than well said no games without pains\n",
      "one today is worth two tomorrow's laziness travel so slowly that poverty soon overtakes him rather go to bed without dinner then to rise and death at 20 years of age the will reigns at 32 width and then 40 the judgement to succeed jumpers quickly at opportunities as you do at conclusions was time is never found again an investment in knowledge pays the best interest the best interest the best interest the best interest the best interest the best interest the best interest the best interest\n",
      "where there is marriage Without Love there will be love without marriage haste makes waste from an empty says person to his head no one can take it from him if two of them are dead many people died 25 and are the buried in till they are 75 never ruin an apology with an excuse live down with dogs shall rise up with fleas\n",
      "dust valve love life then do not Squander time but that's the stuff life is made of educate your children to self control do they have in a folding passion and Prejudice and evil tendencies subject to when operating reasoning will and you have done much to abolish misery from their future and crimes from Society keep your eyes Wide Open before marriage have shut afterwards we do not stop playing because we grow old we grow old because we stop playing as if you were to LIVE 1000 10 years in\n",
      "play as if you were to die tomorrow contentment makes poor man rich discontents makes Richmond or beware of little expenses a small leak will sink a great ship you'll find the key to success under the alarm clock by snows that he is ugly so he puts on a mask having them poor is no shame but being ashamed of it is if you would know the value of money going to try to borrow some\n",
      "either displays too often his wife and his wallet is in danger of having both of them borrowed 4th is the best pillow the discontented man finds no easy chair to find out a girl's faults prayzah to her girlfriends love your enemies for they tell you your faults I would know how fast does cedars in there long though shall sell-by necessities you may delay but time will not which school did you like them or did you like them or did you like them or did you like them or did you like them or did you like them\n",
      "share your opinion in the comments don't miss out on a chance to see the next video subscribe\n"
     ]
    }
   ],
   "source": [
    "f = open('OutPut_Speech.txt', 'r')\n",
    "file_contents = f.read()\n",
    "print(file_contents)"
   ]
  },
  {
   "cell_type": "code",
   "execution_count": null,
   "id": "c577a158",
   "metadata": {},
   "outputs": [],
   "source": []
  }
 ],
 "metadata": {
  "kernelspec": {
   "display_name": "Python 3",
   "language": "python",
   "name": "python3"
  },
  "language_info": {
   "codemirror_mode": {
    "name": "ipython",
    "version": 3
   },
   "file_extension": ".py",
   "mimetype": "text/x-python",
   "name": "python",
   "nbconvert_exporter": "python",
   "pygments_lexer": "ipython3",
   "version": "3.8.8"
  }
 },
 "nbformat": 4,
 "nbformat_minor": 5
}
