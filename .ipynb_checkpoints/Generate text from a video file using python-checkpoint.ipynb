{
 "cells": [
  {
   "cell_type": "code",
   "execution_count": 1,
   "id": "fef402d7",
   "metadata": {},
   "outputs": [],
   "source": [
    "# import os\n",
    "# %pip install ffmpeg \n",
    "# %pip install SpeechRecognition\n",
    "# %pip install moviepy"
   ]
  },
  {
   "cell_type": "code",
   "execution_count": 2,
   "id": "23997b22",
   "metadata": {},
   "outputs": [],
   "source": [
    "import speech_recognition as sr \n",
    "import moviepy.editor as mp\n",
    "from moviepy.video.io.ffmpeg_tools import ffmpeg_extract_subclip"
   ]
  },
  {
   "cell_type": "code",
   "execution_count": 3,
   "id": "79166e28",
   "metadata": {},
   "outputs": [
    {
     "name": "stdout",
     "output_type": "stream",
     "text": [
      "The video is 360 seconds\n",
      "[0, 60, 120, 180, 240, 300, 360]\n"
     ]
    }
   ],
   "source": [
    "num_seconds_video= 6*60\n",
    "print(\"The video is {} seconds\".format(num_seconds_video))\n",
    "l=list(range(0,num_seconds_video+1,60))\n",
    "print(l)"
   ]
  },
  {
   "cell_type": "code",
   "execution_count": 4,
   "id": "6649ed9c",
   "metadata": {},
   "outputs": [
    {
     "name": "stdout",
     "output_type": "stream",
     "text": [
      "Moviepy - Running:\n",
      ">>> \"+ \" \".join(cmd)\n",
      "Moviepy - Command successful\n",
      "MoviePy - Writing audio in converted/converted1.wav\n"
     ]
    },
    {
     "name": "stderr",
     "output_type": "stream",
     "text": [
      "                                                                                                                       \r"
     ]
    },
    {
     "name": "stdout",
     "output_type": "stream",
     "text": [
      "MoviePy - Done.\n",
      "Moviepy - Running:\n",
      ">>> \"+ \" \".join(cmd)\n",
      "Moviepy - Command successful\n",
      "MoviePy - Writing audio in converted/converted2.wav\n"
     ]
    },
    {
     "name": "stderr",
     "output_type": "stream",
     "text": [
      "                                                                                                                       \r"
     ]
    },
    {
     "name": "stdout",
     "output_type": "stream",
     "text": [
      "MoviePy - Done.\n",
      "Moviepy - Running:\n",
      ">>> \"+ \" \".join(cmd)\n",
      "Moviepy - Command successful\n",
      "MoviePy - Writing audio in converted/converted3.wav\n"
     ]
    },
    {
     "name": "stderr",
     "output_type": "stream",
     "text": [
      "                                                                                                                       \r"
     ]
    },
    {
     "name": "stdout",
     "output_type": "stream",
     "text": [
      "MoviePy - Done.\n",
      "Moviepy - Running:\n",
      ">>> \"+ \" \".join(cmd)\n",
      "Moviepy - Command successful\n",
      "MoviePy - Writing audio in converted/converted4.wav\n"
     ]
    },
    {
     "name": "stderr",
     "output_type": "stream",
     "text": [
      "                                                                                                                       \r"
     ]
    },
    {
     "name": "stdout",
     "output_type": "stream",
     "text": [
      "MoviePy - Done.\n",
      "Moviepy - Running:\n",
      ">>> \"+ \" \".join(cmd)\n",
      "Moviepy - Command successful\n",
      "MoviePy - Writing audio in converted/converted5.wav\n"
     ]
    },
    {
     "name": "stderr",
     "output_type": "stream",
     "text": [
      "                                                                                                                       \r"
     ]
    },
    {
     "name": "stdout",
     "output_type": "stream",
     "text": [
      "MoviePy - Done.\n",
      "Moviepy - Running:\n",
      ">>> \"+ \" \".join(cmd)\n",
      "Moviepy - Command successful\n",
      "MoviePy - Writing audio in converted/converted6.wav\n"
     ]
    },
    {
     "name": "stderr",
     "output_type": "stream",
     "text": [
      "                                                                                                                       \r"
     ]
    },
    {
     "name": "stdout",
     "output_type": "stream",
     "text": [
      "MoviePy - Done.\n"
     ]
    }
   ],
   "source": [
    "diz={}\n",
    "for i in range(len(l)-1):\n",
    "    ffmpeg_extract_subclip(\"video_file1.mp4\", l[i]-2*(l[i]!=0), l[i+1], targetname=\"chunks/cut{}.mp4\".format(i+1))\n",
    "    clip = mp.VideoFileClip(r\"chunks/cut{}.mp4\".format(i+1)) \n",
    "    clip.audio.write_audiofile(r\"converted/converted{}.wav\".format(i+1))\n",
    "    r = sr.Recognizer()\n",
    "    audio = sr.AudioFile(\"converted/converted{}.wav\".format(i+1))\n",
    "    with audio as source:\n",
    "      r.adjust_for_ambient_noise(source)  \n",
    "      audio_file = r.record(source)\n",
    "    result = r.recognize_google(audio_file)\n",
    "    diz['chunk{}'.format(i+1)]=result"
   ]
  },
  {
   "cell_type": "code",
   "execution_count": 5,
   "id": "16301358",
   "metadata": {},
   "outputs": [],
   "source": [
    "l_chunks=[diz['chunk{}'.format(i+1)] for i in range(len(diz))]\n",
    "text='\\n'.join(l_chunks)"
   ]
  },
  {
   "cell_type": "code",
   "execution_count": 6,
   "id": "e9a7a2f4",
   "metadata": {},
   "outputs": [],
   "source": [
    "with open('OutPut_Speech.txt',mode ='w') as file: \n",
    "   file.write(\"OutPut_Speech:\") \n",
    "   file.write(\"\\n\") \n",
    "   file.write(text) \n"
   ]
  },
  {
   "cell_type": "code",
   "execution_count": 7,
   "id": "aaefa091",
   "metadata": {},
   "outputs": [
    {
     "name": "stdout",
     "output_type": "stream",
     "text": [
      "OutPut_Speech:\n",
      "gun in anger NZ Shane I didn't fail the test I just found 100 ways to do it wrong wife's biggest tragedy is that we get old too soon and Wise too late there are three faithful friends and his wife and old dark and ready money never leave till tomorrow that would you can do today time as money well done is better than well said no games without pains\n",
      "one today is worth two tomorrow's laziness travel so slowly that poverty soon overtakes him rather go to bed without dinner then to rise and death at 20 years of age the will reigns at 32 width and then 40 the judgement to succeed jumpers quickly at opportunities as you do at conclusions was time is never found again an investment in knowledge pays the best interest the best interest the best interest the best interest the best interest the best interest the best interest the best interest\n",
      "where there is marriage Without Love there will be love without marriage haste makes waste from an empty says person to his head no one can take it from him if two of them are dead many people died 25 and are the buried in till they are 75 never ruin an apology with an excuse live down with dogs shall rise up with fleas\n",
      "dust valve love life then do not Squander time but that's the stuff life is made of educate your children to self control do they have in a folding passion and Prejudice and evil tendencies subject to when operating reasoning will and you have done much to abolish misery from their future and crimes from Society keep your eyes Wide Open before marriage have shut afterwards we do not stop playing because we grow old we grow old because we stop playing as if you were to LIVE 1000 10 years in\n",
      "play as if you were to die tomorrow contentment makes poor man rich discontents makes Richmond or beware of little expenses a small leak will sink a great ship you'll find the key to success under the alarm clock by snows that he is ugly so he puts on a mask having them poor is no shame but being ashamed of it is if you would know the value of money going to try to borrow some\n",
      "either displays too often his wife and his wallet is in danger of having both of them borrowed 4th is the best pillow the discontented man finds no easy chair to find out a girl's faults prayzah to her girlfriends love your enemies for they tell you your faults I would know how fast does cedars in there long though shall sell-by necessities you may delay but time will not which school did you like them or did you like them or did you like them or did you like them or did you like them or did you like them\n"
     ]
    }
   ],
   "source": [
    "f = open('OutPut_Speech.txt', 'r')\n",
    "file_contents = f.read()\n",
    "print(file_contents)"
   ]
  },
  {
   "cell_type": "code",
   "execution_count": null,
   "id": "ebd78041",
   "metadata": {},
   "outputs": [],
   "source": []
  }
 ],
 "metadata": {
  "kernelspec": {
   "display_name": "Python 3",
   "language": "python",
   "name": "python3"
  },
  "language_info": {
   "codemirror_mode": {
    "name": "ipython",
    "version": 3
   },
   "file_extension": ".py",
   "mimetype": "text/x-python",
   "name": "python",
   "nbconvert_exporter": "python",
   "pygments_lexer": "ipython3",
   "version": "3.8.8"
  }
 },
 "nbformat": 4,
 "nbformat_minor": 5
}
